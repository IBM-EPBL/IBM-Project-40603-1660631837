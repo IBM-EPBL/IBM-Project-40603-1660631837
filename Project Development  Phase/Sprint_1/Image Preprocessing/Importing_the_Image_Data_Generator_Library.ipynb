{
  "nbformat": 4,
  "nbformat_minor": 0,
  "metadata": {
    "colab": {
      "provenance": []
    },
    "kernelspec": {
      "name": "python3",
      "display_name": "Python 3"
    },
    "language_info": {
      "name": "python"
    }
  },
  "cells": [
    {
      "cell_type": "code",
      "execution_count": null,
      "metadata": {
        "id": "KsjrrUdQuInJ"
      },
      "outputs": [],
      "source": [
        "import keras\n",
        "from keras.preprocessing.image import ImageDataGenerator\n"
      ]
    },
    {
      "cell_type": "code",
      "source": [],
      "metadata": {
        "id": "g780HFBNuQWG"
      },
      "execution_count": null,
      "outputs": []
    }
  ]
}